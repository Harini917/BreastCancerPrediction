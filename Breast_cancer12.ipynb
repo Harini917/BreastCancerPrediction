{
  "metadata": {
    "kernelspec": {
      "language": "python",
      "display_name": "Python 3",
      "name": "python3"
    },
    "language_info": {
      "name": "python",
      "version": "3.7.12",
      "mimetype": "text/x-python",
      "codemirror_mode": {
        "name": "ipython",
        "version": 3
      },
      "pygments_lexer": "ipython3",
      "nbconvert_exporter": "python",
      "file_extension": ".py"
    },
    "colab": {
      "provenance": []
    },
    "accelerator": "GPU",
    "gpuClass": "standard"
  },
  "nbformat_minor": 0,
  "nbformat": 4,
  "cells": [
    {
      "cell_type": "markdown",
      "source": [
        "*This notebook is for my learning purpose so the model might be not optimal nor efficient.*"
      ],
      "metadata": {
        "id": "oCayMmXVUV7I"
      }
    },
    {
      "cell_type": "code",
      "source": [
        "from google.colab import drive\n",
        "drive.mount('/content/drive')"
      ],
      "metadata": {
        "id": "OLlRms9NUbkj",
        "colab": {
          "base_uri": "https://localhost:8080/"
        },
        "outputId": "3c79618d-eb85-480d-ba6e-82925a971358"
      },
      "execution_count": null,
      "outputs": [
        {
          "output_type": "stream",
          "name": "stdout",
          "text": [
            "Mounted at /content/drive\n"
          ]
        }
      ]
    },
    {
      "cell_type": "markdown",
      "source": [
        "References:\n",
        "* https://medium.com/@kenneth.ca95/a-guide-to-transfer-learning-with-keras-using-resnet50-a81a4a28084b\n",
        "* https://www.kaggle.com/vincentsiow/chest-ct-scan-using-resnet101v2\n",
        "* https://stackoverflow.com/a/61656540/10275039"
      ],
      "metadata": {
        "id": "rYqLnrHwUV7K"
      }
    },
    {
      "cell_type": "markdown",
      "source": [
        "First we need to import all important modules."
      ],
      "metadata": {
        "id": "NcVHmf8sUV7L"
      }
    },
    {
      "cell_type": "code",
      "source": [
        "import pandas as pd\n",
        "import numpy as np\n",
        "import tensorflow as tf\n",
        "import PIL\n",
        "import os\n",
        "import cv2\n",
        "import matplotlib.pyplot as plt\n",
        "from tensorflow.keras import layers\n",
        "from tensorflow.keras import Model\n",
        "from tensorflow.keras.models import Sequential\n",
        "from tensorflow.keras.preprocessing.image import ImageDataGenerator\n",
        "from tensorflow.keras.callbacks import EarlyStopping, ModelCheckpoint\n",
        "from tensorflow.keras.applications import ResNet50\n",
        "from tensorflow.keras.applications.resnet import preprocess_input"
      ],
      "metadata": {
        "execution": {
          "iopub.status.busy": "2022-06-26T12:02:26.530406Z",
          "iopub.execute_input": "2022-06-26T12:02:26.532653Z",
          "iopub.status.idle": "2022-06-26T12:02:37.530823Z",
          "shell.execute_reply.started": "2022-06-26T12:02:26.532054Z",
          "shell.execute_reply": "2022-06-26T12:02:37.529914Z"
        },
        "trusted": true,
        "id": "d9bTM7aSUV7L"
      },
      "execution_count": null,
      "outputs": []
    },
    {
      "cell_type": "code",
      "source": [
        "tf.__version__"
      ],
      "metadata": {
        "execution": {
          "iopub.status.busy": "2022-06-26T12:02:37.535213Z",
          "iopub.execute_input": "2022-06-26T12:02:37.535484Z",
          "iopub.status.idle": "2022-06-26T12:02:37.550389Z",
          "shell.execute_reply.started": "2022-06-26T12:02:37.535451Z",
          "shell.execute_reply": "2022-06-26T12:02:37.549483Z"
        },
        "trusted": true,
        "colab": {
          "base_uri": "https://localhost:8080/",
          "height": 36
        },
        "id": "_h35pJaxUV7M",
        "outputId": "1e3fe82c-3fb5-4589-a23a-ce47d13ab074"
      },
      "execution_count": null,
      "outputs": [
        {
          "output_type": "execute_result",
          "data": {
            "text/plain": [
              "'2.12.0'"
            ],
            "application/vnd.google.colaboratory.intrinsic+json": {
              "type": "string"
            }
          },
          "metadata": {},
          "execution_count": 3
        }
      ]
    },
    {
      "cell_type": "code",
      "source": [
        "path = \"/content/drive/MyDrive/Train\"\n",
        "for files in os.listdir(path):\n",
        "    print(os.path.join(path,files))"
      ],
      "metadata": {
        "execution": {
          "iopub.status.busy": "2022-06-26T12:02:37.552034Z",
          "iopub.execute_input": "2022-06-26T12:02:37.552936Z",
          "iopub.status.idle": "2022-06-26T12:02:37.579546Z",
          "shell.execute_reply.started": "2022-06-26T12:02:37.552889Z",
          "shell.execute_reply": "2022-06-26T12:02:37.578435Z"
        },
        "trusted": true,
        "colab": {
          "base_uri": "https://localhost:8080/"
        },
        "id": "RTCHkkV9UV7M",
        "outputId": "71cf16f0-60a6-4bc6-d87c-0be584e61f89"
      },
      "execution_count": null,
      "outputs": [
        {
          "output_type": "stream",
          "name": "stdout",
          "text": [
            "/content/drive/MyDrive/Train/malignant\n",
            "/content/drive/MyDrive/Train/normal\n",
            "/content/drive/MyDrive/Train/benign\n"
          ]
        }
      ]
    },
    {
      "cell_type": "markdown",
      "source": [
        "Then we set the path for this data."
      ],
      "metadata": {
        "id": "Ocn0-Cc8UV7N"
      }
    },
    {
      "cell_type": "code",
      "source": [
        "train_path = \"/content/drive/MyDrive/Train\"\n",
        "test_path = \"/content/drive/MyDrive/Test\""
      ],
      "metadata": {
        "scrolled": true,
        "execution": {
          "iopub.status.busy": "2022-06-26T12:02:37.581601Z",
          "iopub.execute_input": "2022-06-26T12:02:37.582134Z",
          "iopub.status.idle": "2022-06-26T12:02:37.586511Z",
          "shell.execute_reply.started": "2022-06-26T12:02:37.582085Z",
          "shell.execute_reply": "2022-06-26T12:02:37.585297Z"
        },
        "trusted": true,
        "id": "3kvwpUPOUV7N"
      },
      "execution_count": null,
      "outputs": []
    },
    {
      "cell_type": "markdown",
      "source": [
        "# Helper Functions\n",
        "taken from: https://github.com/Hvass-Labs/TensorFlow-Tutorials/blob/master/10_Fine-Tuning.ipynb <br>\n",
        "These helper functions will be useful for later computation."
      ],
      "metadata": {
        "id": "bKkvQ001UV7N"
      }
    },
    {
      "cell_type": "code",
      "source": [
        "# Helper-function for joining a directory and list of filenames.\n",
        "def path_join(dirname, filenames):\n",
        "    return [os.path.join(dirname, filename) for filename in filenames]"
      ],
      "metadata": {
        "execution": {
          "iopub.status.busy": "2022-06-26T12:02:37.588007Z",
          "iopub.execute_input": "2022-06-26T12:02:37.588508Z",
          "iopub.status.idle": "2022-06-26T12:02:37.598712Z",
          "shell.execute_reply.started": "2022-06-26T12:02:37.588466Z",
          "shell.execute_reply": "2022-06-26T12:02:37.597947Z"
        },
        "trusted": true,
        "id": "oB7LoMTbUV7O"
      },
      "execution_count": null,
      "outputs": []
    },
    {
      "cell_type": "code",
      "source": [
        "# Helper-function for plotting images\n",
        "def plot_images(images, cls_true, cls_pred=None, smooth=True):\n",
        "\n",
        "    assert len(images) == len(cls_true)\n",
        "\n",
        "    # Create figure with sub-plots.\n",
        "    fig, axes = plt.subplots(3, 3, figsize=(15,15))\n",
        "\n",
        "    # Adjust vertical spacing.\n",
        "    if cls_pred is None:\n",
        "        hspace = 0.3\n",
        "    else:\n",
        "        hspace = 0.6\n",
        "    fig.subplots_adjust(hspace=hspace, wspace=0.3)\n",
        "\n",
        "    # Interpolation type.\n",
        "    if smooth:\n",
        "        interpolation = 'spline16'\n",
        "    else:\n",
        "        interpolation = 'nearest'\n",
        "\n",
        "    for i, ax in enumerate(axes.flat):\n",
        "        # There may be less than 9 images, ensure it doesn't crash.\n",
        "        if i < len(images):\n",
        "            # Plot image.\n",
        "            ax.imshow(images[i],\n",
        "                      interpolation=interpolation)\n",
        "\n",
        "            # Name of the true class.\n",
        "            cls_true_name = class_names[cls_true[i]]\n",
        "\n",
        "            # Show true and predicted classes.\n",
        "            if cls_pred is None:\n",
        "                xlabel = \"True: {0}\".format(cls_true_name)\n",
        "            else:\n",
        "                # Name of the predicted class.\n",
        "                cls_pred_name = class_names[cls_pred[i]]\n",
        "\n",
        "                xlabel = \"True: {0}\\nPred: {1}\".format(cls_true_name, cls_pred_name)\n",
        "\n",
        "            # Show the classes as the label on the x-axis.\n",
        "            ax.set_xlabel(xlabel)\n",
        "\n",
        "        # Remove ticks from the plot.\n",
        "        ax.set_xticks([])\n",
        "        ax.set_yticks([])\n",
        "\n",
        "    # Ensure the plot is shown correctly with multiple plots\n",
        "    # in a single Notebook cell.\n",
        "    plt.show()"
      ],
      "metadata": {
        "execution": {
          "iopub.status.busy": "2022-06-26T12:02:37.602382Z",
          "iopub.execute_input": "2022-06-26T12:02:37.603064Z",
          "iopub.status.idle": "2022-06-26T12:02:37.615160Z",
          "shell.execute_reply.started": "2022-06-26T12:02:37.603027Z",
          "shell.execute_reply": "2022-06-26T12:02:37.614097Z"
        },
        "trusted": true,
        "id": "DvqxM-4zUV7O"
      },
      "execution_count": null,
      "outputs": []
    },
    {
      "cell_type": "code",
      "source": [
        "# Helper-function for printing confusion matrix\n",
        "\n",
        "# Import a function from sklearn to calculate the confusion-matrix.\n",
        "from sklearn.metrics import confusion_matrix\n",
        "\n",
        "def print_confusion_matrix(cls_pred):\n",
        "    # cls_pred is an array of the predicted class-number for\n",
        "    # all images in the test-set.\n",
        "\n",
        "    # Get the confusion matrix using sklearn.\n",
        "    cm = confusion_matrix(y_true=cls_test,  # True class for test-set.\n",
        "                          y_pred=cls_pred)  # Predicted class.\n",
        "\n",
        "    print(\"Confusion matrix:\")\n",
        "\n",
        "    # Print the confusion matrix as text.\n",
        "    print(cm)\n",
        "\n",
        "    # Print the class-names for easy reference.\n",
        "    for i, class_name in enumerate(class_names):\n",
        "        print(\"({0}) {1}\".format(i, class_name))"
      ],
      "metadata": {
        "execution": {
          "iopub.status.busy": "2022-06-26T12:02:37.618437Z",
          "iopub.execute_input": "2022-06-26T12:02:37.618831Z",
          "iopub.status.idle": "2022-06-26T12:02:38.906191Z",
          "shell.execute_reply.started": "2022-06-26T12:02:37.618782Z",
          "shell.execute_reply": "2022-06-26T12:02:38.905210Z"
        },
        "trusted": true,
        "id": "cDLoJ8ZzUV7O"
      },
      "execution_count": null,
      "outputs": []
    },
    {
      "cell_type": "code",
      "source": [
        "# Helper-function for plotting example errors\n",
        "def plot_example_errors(cls_pred):\n",
        "    # cls_pred is an array of the predicted class-number for\n",
        "    # all images in the test-set.\n",
        "\n",
        "    # Boolean array whether the predicted class is incorrect.\n",
        "    incorrect = (cls_pred != cls_test)\n",
        "\n",
        "    # Get the file-paths for images that were incorrectly classified.\n",
        "    image_paths = np.array(image_paths_test)[incorrect]\n",
        "\n",
        "    # Load the first 9 images.\n",
        "    images = load_images(image_paths=image_paths[0:9])\n",
        "\n",
        "    # Get the predicted classes for those images.\n",
        "    cls_pred = cls_pred[incorrect]\n",
        "\n",
        "    # Get the true classes for those images.\n",
        "    cls_true = cls_test[incorrect]\n",
        "\n",
        "    # Plot the 9 images we have loaded and their corresponding classes.\n",
        "    # We have only loaded 9 images so there is no need to slice those again.\n",
        "    plot_images(images=images,\n",
        "                cls_true=cls_true[0:9],\n",
        "                cls_pred=cls_pred[0:9])"
      ],
      "metadata": {
        "execution": {
          "iopub.status.busy": "2022-06-26T12:02:38.908022Z",
          "iopub.execute_input": "2022-06-26T12:02:38.908356Z",
          "iopub.status.idle": "2022-06-26T12:02:38.915390Z",
          "shell.execute_reply.started": "2022-06-26T12:02:38.908310Z",
          "shell.execute_reply": "2022-06-26T12:02:38.913943Z"
        },
        "trusted": true,
        "id": "cdGrZI-YUV7P"
      },
      "execution_count": null,
      "outputs": []
    },
    {
      "cell_type": "code",
      "source": [
        "# Function for calculating the predicted classes of the entire test-set and calling\n",
        "# the above function to plot a few examples of mis-classified images.\n",
        "def example_errors():\n",
        "    # The Keras data-generator for the test-set must be reset\n",
        "    # before processing. This is because the generator will loop\n",
        "    # infinitely and keep an internal index into the dataset.\n",
        "    # So it might start in the middle of the test-set if we do\n",
        "    # not reset it first. This makes it impossible to match the\n",
        "    # predicted classes with the input images.\n",
        "    # If we reset the generator, then it always starts at the\n",
        "    # beginning so we know exactly which input-images were used.\n",
        "    test_generator.reset()\n",
        "\n",
        "    # Predict the classes for all images in the test-set.\n",
        "    y_pred = model.predict(test_generator, steps=STEPS_TEST)\n",
        "\n",
        "    # Convert the predicted classes from arrays to integers.\n",
        "    cls_pred = np.argmax(y_pred,axis=1)\n",
        "\n",
        "    # Plot examples of mis-classified images.\n",
        "    plot_example_errors(cls_pred)\n",
        "\n",
        "    # Print the confusion matrix.\n",
        "    print_confusion_matrix(cls_pred)"
      ],
      "metadata": {
        "execution": {
          "iopub.status.busy": "2022-06-26T12:02:38.917182Z",
          "iopub.execute_input": "2022-06-26T12:02:38.917699Z",
          "iopub.status.idle": "2022-06-26T12:02:38.930207Z",
          "shell.execute_reply.started": "2022-06-26T12:02:38.917648Z",
          "shell.execute_reply": "2022-06-26T12:02:38.928899Z"
        },
        "trusted": true,
        "id": "EqsbOIIHUV7P"
      },
      "execution_count": null,
      "outputs": []
    },
    {
      "cell_type": "code",
      "source": [
        "# Helper-function for loading images\n",
        "def load_images(image_paths):\n",
        "    # Load the images from disk.\n",
        "    images = [plt.imread(path) for path in image_paths]\n",
        "\n",
        "    # Convert to a numpy array and return it.\n",
        "    return np.asarray(images)"
      ],
      "metadata": {
        "execution": {
          "iopub.status.busy": "2022-06-26T12:02:38.935268Z",
          "iopub.execute_input": "2022-06-26T12:02:38.935575Z",
          "iopub.status.idle": "2022-06-26T12:02:38.946399Z",
          "shell.execute_reply.started": "2022-06-26T12:02:38.935535Z",
          "shell.execute_reply": "2022-06-26T12:02:38.945140Z"
        },
        "trusted": true,
        "id": "db5NypBeUV7Q"
      },
      "execution_count": null,
      "outputs": []
    },
    {
      "cell_type": "markdown",
      "source": [
        "# Working on ResNet50"
      ],
      "metadata": {
        "id": "oYNzX-abUV7Q"
      }
    },
    {
      "cell_type": "code",
      "source": [
        "# Set some important constants here\n",
        "IMAGE_SIZE = 350\n",
        "N_CLASSES = 3\n",
        "BATCH_SIZE = 16"
      ],
      "metadata": {
        "execution": {
          "iopub.status.busy": "2022-06-26T12:02:38.949161Z",
          "iopub.execute_input": "2022-06-26T12:02:38.950325Z",
          "iopub.status.idle": "2022-06-26T12:02:38.959152Z",
          "shell.execute_reply.started": "2022-06-26T12:02:38.950280Z",
          "shell.execute_reply": "2022-06-26T12:02:38.958006Z"
        },
        "trusted": true,
        "id": "yYwMsi8iUV7Q"
      },
      "execution_count": null,
      "outputs": []
    },
    {
      "cell_type": "markdown",
      "source": [
        "Begin to create data generator to arrange the dataset to be used later. This can makes the work easier."
      ],
      "metadata": {
        "id": "AY1RY8s4UV7R"
      }
    },
    {
      "cell_type": "code",
      "source": [
        "# ImageDataGenerator is needed because the dataset has no many data.\n",
        "# The data augmentation can be useful to generate many augmented images from a single image\n",
        "\n",
        "# train_datagen = ImageDataGenerator(\n",
        "#       rescale=1./255,\n",
        "#       rotation_range=0.4,\n",
        "#       width_shift_range=0.2,\n",
        "#       height_shift_range=0.2,\n",
        "#       shear_range=0.2,\n",
        "#       zoom_range=0.2,\n",
        "#       horizontal_flip=True,\n",
        "#       vertical_flip=True,\n",
        "#       fill_mode='nearest')\n",
        "train_datagen = ImageDataGenerator(dtype='float32', preprocessing_function=preprocess_input)\n",
        "train_generator = train_datagen.flow_from_directory(train_path,\n",
        "                                                   batch_size = BATCH_SIZE,\n",
        "                                                   target_size = (IMAGE_SIZE, IMAGE_SIZE),\n",
        "                                                   class_mode = 'categorical')\n",
        "\n",
        "# test_datagen = ImageDataGenerator(rescale = 1.0/255.0)\n",
        "test_datagen = ImageDataGenerator(dtype='float32', preprocessing_function=preprocess_input)\n",
        "test_generator = test_datagen.flow_from_directory(test_path,\n",
        "                                                   batch_size = BATCH_SIZE,\n",
        "                                                   target_size = (IMAGE_SIZE, IMAGE_SIZE),\n",
        "                                                   class_mode = 'categorical')"
      ],
      "metadata": {
        "execution": {
          "iopub.status.busy": "2022-06-26T12:02:38.961700Z",
          "iopub.execute_input": "2022-06-26T12:02:38.962042Z",
          "iopub.status.idle": "2022-06-26T12:02:39.182908Z",
          "shell.execute_reply.started": "2022-06-26T12:02:38.962007Z",
          "shell.execute_reply": "2022-06-26T12:02:39.181876Z"
        },
        "trusted": true,
        "colab": {
          "base_uri": "https://localhost:8080/"
        },
        "id": "JXw4tYLDUV7R",
        "outputId": "c985a786-7853-4647-852b-7a4dd8d2a788"
      },
      "execution_count": null,
      "outputs": [
        {
          "output_type": "stream",
          "name": "stdout",
          "text": [
            "Found 1263 images belonging to 3 classes.\n",
            "Found 0 images belonging to 0 classes.\n"
          ]
        }
      ]
    },
    {
      "cell_type": "code",
      "source": [
        "# save some values to be used later\n",
        "\n",
        "cls_train = train_generator.classes\n",
        "cls_test = test_generator.classes\n",
        "class_names = list(train_generator.class_indices.keys())\n",
        "print(class_names)\n",
        "num_classes = train_generator.num_classes\n",
        "print(\"num classes:\",num_classes)"
      ],
      "metadata": {
        "execution": {
          "iopub.status.busy": "2022-06-26T12:02:39.184667Z",
          "iopub.execute_input": "2022-06-26T12:02:39.185782Z",
          "iopub.status.idle": "2022-06-26T12:02:39.195009Z",
          "shell.execute_reply.started": "2022-06-26T12:02:39.185710Z",
          "shell.execute_reply": "2022-06-26T12:02:39.193997Z"
        },
        "trusted": true,
        "id": "gBfXHTtyUV7R",
        "colab": {
          "base_uri": "https://localhost:8080/"
        },
        "outputId": "8127b0bc-fcaa-4537-aafa-7565b61afb00"
      },
      "execution_count": null,
      "outputs": [
        {
          "output_type": "stream",
          "name": "stdout",
          "text": [
            "['benign', 'malignant', 'normal']\n",
            "num classes: 3\n"
          ]
        }
      ]
    },
    {
      "cell_type": "code",
      "source": [
        "image_paths_train = path_join(train_path, train_generator.filenames)\n",
        "image_paths_test = path_join(test_path, test_generator.filenames)"
      ],
      "metadata": {
        "execution": {
          "iopub.status.busy": "2022-06-26T12:02:39.196825Z",
          "iopub.execute_input": "2022-06-26T12:02:39.197394Z",
          "iopub.status.idle": "2022-06-26T12:02:39.207960Z",
          "shell.execute_reply.started": "2022-06-26T12:02:39.197343Z",
          "shell.execute_reply": "2022-06-26T12:02:39.207053Z"
        },
        "trusted": true,
        "id": "cNWkwjxfUV7R"
      },
      "execution_count": null,
      "outputs": []
    },
    {
      "cell_type": "code",
      "source": [
        "STEPS_TEST = test_generator.n / BATCH_SIZE\n",
        "STEPS_TEST"
      ],
      "metadata": {
        "execution": {
          "iopub.status.busy": "2022-06-26T12:02:39.209694Z",
          "iopub.execute_input": "2022-06-26T12:02:39.210271Z",
          "iopub.status.idle": "2022-06-26T12:02:39.223983Z",
          "shell.execute_reply.started": "2022-06-26T12:02:39.210222Z",
          "shell.execute_reply": "2022-06-26T12:02:39.222713Z"
        },
        "trusted": true,
        "colab": {
          "base_uri": "https://localhost:8080/"
        },
        "id": "riK2h0GAUV7S",
        "outputId": "bf351526-37a8-4a6e-d3a5-97060f8f11ef"
      },
      "execution_count": null,
      "outputs": [
        {
          "output_type": "execute_result",
          "data": {
            "text/plain": [
              "0.0"
            ]
          },
          "metadata": {},
          "execution_count": 16
        }
      ]
    },
    {
      "cell_type": "markdown",
      "source": [
        "We import the pre-Trained ResNet50 from tensorflow, and we exclude the top layer because we will use Transfer Learning. We use Average Pooling layer and use weights from ImageNet dataset."
      ],
      "metadata": {
        "id": "PtVRIhHYUV7S"
      }
    },
    {
      "cell_type": "code",
      "source": [
        "res_model = ResNet50(include_top=False, pooling='avg', weights='imagenet', input_shape = (IMAGE_SIZE, IMAGE_SIZE, 3))"
      ],
      "metadata": {
        "execution": {
          "iopub.status.busy": "2022-06-26T12:02:39.225989Z",
          "iopub.execute_input": "2022-06-26T12:02:39.226677Z",
          "iopub.status.idle": "2022-06-26T12:03:01.664632Z",
          "shell.execute_reply.started": "2022-06-26T12:02:39.226617Z",
          "shell.execute_reply": "2022-06-26T12:03:01.662966Z"
        },
        "trusted": true,
        "id": "GjZ49rxxUV7S",
        "colab": {
          "base_uri": "https://localhost:8080/"
        },
        "outputId": "89c52734-7a85-4535-ecb1-8c2f4eeeca8d"
      },
      "execution_count": null,
      "outputs": [
        {
          "output_type": "stream",
          "name": "stdout",
          "text": [
            "Downloading data from https://storage.googleapis.com/tensorflow/keras-applications/resnet/resnet50_weights_tf_dim_ordering_tf_kernels_notop.h5\n",
            "94765736/94765736 [==============================] - 1s 0us/step\n"
          ]
        }
      ]
    },
    {
      "cell_type": "markdown",
      "source": [
        "Make sure to set all layers to be not trainable except the last convolution layer. We need the last convolution layer to be trained so it can adapt our data during learning process. We do this to make the computation more efficient since the layers is trained before in the base model."
      ],
      "metadata": {
        "id": "mCz6HGBCUV7S"
      }
    },
    {
      "cell_type": "code",
      "source": [
        "for layer in res_model.layers:\n",
        "    if 'conv5' not in layer.name:\n",
        "        layer.trainable = False"
      ],
      "metadata": {
        "execution": {
          "iopub.status.busy": "2022-06-26T12:03:01.666037Z",
          "iopub.status.idle": "2022-06-26T12:03:01.667187Z",
          "shell.execute_reply.started": "2022-06-26T12:03:01.666890Z",
          "shell.execute_reply": "2022-06-26T12:03:01.666921Z"
        },
        "trusted": true,
        "id": "Vpyf91MoUV7S"
      },
      "execution_count": null,
      "outputs": []
    },
    {
      "cell_type": "code",
      "source": [
        "# Check if all layers except conv5 layers are not trainable\n",
        "for i, layer in enumerate(res_model.layers):\n",
        "    print(i, layer.name, \"-\", layer.trainable)"
      ],
      "metadata": {
        "execution": {
          "iopub.status.busy": "2022-06-26T12:03:01.668567Z",
          "iopub.status.idle": "2022-06-26T12:03:01.669550Z",
          "shell.execute_reply.started": "2022-06-26T12:03:01.669264Z",
          "shell.execute_reply": "2022-06-26T12:03:01.669294Z"
        },
        "trusted": true,
        "colab": {
          "base_uri": "https://localhost:8080/"
        },
        "id": "fOB0J5IgUV7T",
        "outputId": "381c3830-8b05-4f70-9007-67d04926391b"
      },
      "execution_count": null,
      "outputs": [
        {
          "output_type": "stream",
          "name": "stdout",
          "text": [
            "0 input_1 - False\n",
            "1 conv1_pad - False\n",
            "2 conv1_conv - False\n",
            "3 conv1_bn - False\n",
            "4 conv1_relu - False\n",
            "5 pool1_pad - False\n",
            "6 pool1_pool - False\n",
            "7 conv2_block1_1_conv - False\n",
            "8 conv2_block1_1_bn - False\n",
            "9 conv2_block1_1_relu - False\n",
            "10 conv2_block1_2_conv - False\n",
            "11 conv2_block1_2_bn - False\n",
            "12 conv2_block1_2_relu - False\n",
            "13 conv2_block1_0_conv - False\n",
            "14 conv2_block1_3_conv - False\n",
            "15 conv2_block1_0_bn - False\n",
            "16 conv2_block1_3_bn - False\n",
            "17 conv2_block1_add - False\n",
            "18 conv2_block1_out - False\n",
            "19 conv2_block2_1_conv - False\n",
            "20 conv2_block2_1_bn - False\n",
            "21 conv2_block2_1_relu - False\n",
            "22 conv2_block2_2_conv - False\n",
            "23 conv2_block2_2_bn - False\n",
            "24 conv2_block2_2_relu - False\n",
            "25 conv2_block2_3_conv - False\n",
            "26 conv2_block2_3_bn - False\n",
            "27 conv2_block2_add - False\n",
            "28 conv2_block2_out - False\n",
            "29 conv2_block3_1_conv - False\n",
            "30 conv2_block3_1_bn - False\n",
            "31 conv2_block3_1_relu - False\n",
            "32 conv2_block3_2_conv - False\n",
            "33 conv2_block3_2_bn - False\n",
            "34 conv2_block3_2_relu - False\n",
            "35 conv2_block3_3_conv - False\n",
            "36 conv2_block3_3_bn - False\n",
            "37 conv2_block3_add - False\n",
            "38 conv2_block3_out - False\n",
            "39 conv3_block1_1_conv - False\n",
            "40 conv3_block1_1_bn - False\n",
            "41 conv3_block1_1_relu - False\n",
            "42 conv3_block1_2_conv - False\n",
            "43 conv3_block1_2_bn - False\n",
            "44 conv3_block1_2_relu - False\n",
            "45 conv3_block1_0_conv - False\n",
            "46 conv3_block1_3_conv - False\n",
            "47 conv3_block1_0_bn - False\n",
            "48 conv3_block1_3_bn - False\n",
            "49 conv3_block1_add - False\n",
            "50 conv3_block1_out - False\n",
            "51 conv3_block2_1_conv - False\n",
            "52 conv3_block2_1_bn - False\n",
            "53 conv3_block2_1_relu - False\n",
            "54 conv3_block2_2_conv - False\n",
            "55 conv3_block2_2_bn - False\n",
            "56 conv3_block2_2_relu - False\n",
            "57 conv3_block2_3_conv - False\n",
            "58 conv3_block2_3_bn - False\n",
            "59 conv3_block2_add - False\n",
            "60 conv3_block2_out - False\n",
            "61 conv3_block3_1_conv - False\n",
            "62 conv3_block3_1_bn - False\n",
            "63 conv3_block3_1_relu - False\n",
            "64 conv3_block3_2_conv - False\n",
            "65 conv3_block3_2_bn - False\n",
            "66 conv3_block3_2_relu - False\n",
            "67 conv3_block3_3_conv - False\n",
            "68 conv3_block3_3_bn - False\n",
            "69 conv3_block3_add - False\n",
            "70 conv3_block3_out - False\n",
            "71 conv3_block4_1_conv - False\n",
            "72 conv3_block4_1_bn - False\n",
            "73 conv3_block4_1_relu - False\n",
            "74 conv3_block4_2_conv - False\n",
            "75 conv3_block4_2_bn - False\n",
            "76 conv3_block4_2_relu - False\n",
            "77 conv3_block4_3_conv - False\n",
            "78 conv3_block4_3_bn - False\n",
            "79 conv3_block4_add - False\n",
            "80 conv3_block4_out - False\n",
            "81 conv4_block1_1_conv - False\n",
            "82 conv4_block1_1_bn - False\n",
            "83 conv4_block1_1_relu - False\n",
            "84 conv4_block1_2_conv - False\n",
            "85 conv4_block1_2_bn - False\n",
            "86 conv4_block1_2_relu - False\n",
            "87 conv4_block1_0_conv - False\n",
            "88 conv4_block1_3_conv - False\n",
            "89 conv4_block1_0_bn - False\n",
            "90 conv4_block1_3_bn - False\n",
            "91 conv4_block1_add - False\n",
            "92 conv4_block1_out - False\n",
            "93 conv4_block2_1_conv - False\n",
            "94 conv4_block2_1_bn - False\n",
            "95 conv4_block2_1_relu - False\n",
            "96 conv4_block2_2_conv - False\n",
            "97 conv4_block2_2_bn - False\n",
            "98 conv4_block2_2_relu - False\n",
            "99 conv4_block2_3_conv - False\n",
            "100 conv4_block2_3_bn - False\n",
            "101 conv4_block2_add - False\n",
            "102 conv4_block2_out - False\n",
            "103 conv4_block3_1_conv - False\n",
            "104 conv4_block3_1_bn - False\n",
            "105 conv4_block3_1_relu - False\n",
            "106 conv4_block3_2_conv - False\n",
            "107 conv4_block3_2_bn - False\n",
            "108 conv4_block3_2_relu - False\n",
            "109 conv4_block3_3_conv - False\n",
            "110 conv4_block3_3_bn - False\n",
            "111 conv4_block3_add - False\n",
            "112 conv4_block3_out - False\n",
            "113 conv4_block4_1_conv - False\n",
            "114 conv4_block4_1_bn - False\n",
            "115 conv4_block4_1_relu - False\n",
            "116 conv4_block4_2_conv - False\n",
            "117 conv4_block4_2_bn - False\n",
            "118 conv4_block4_2_relu - False\n",
            "119 conv4_block4_3_conv - False\n",
            "120 conv4_block4_3_bn - False\n",
            "121 conv4_block4_add - False\n",
            "122 conv4_block4_out - False\n",
            "123 conv4_block5_1_conv - False\n",
            "124 conv4_block5_1_bn - False\n",
            "125 conv4_block5_1_relu - False\n",
            "126 conv4_block5_2_conv - False\n",
            "127 conv4_block5_2_bn - False\n",
            "128 conv4_block5_2_relu - False\n",
            "129 conv4_block5_3_conv - False\n",
            "130 conv4_block5_3_bn - False\n",
            "131 conv4_block5_add - False\n",
            "132 conv4_block5_out - False\n",
            "133 conv4_block6_1_conv - False\n",
            "134 conv4_block6_1_bn - False\n",
            "135 conv4_block6_1_relu - False\n",
            "136 conv4_block6_2_conv - False\n",
            "137 conv4_block6_2_bn - False\n",
            "138 conv4_block6_2_relu - False\n",
            "139 conv4_block6_3_conv - False\n",
            "140 conv4_block6_3_bn - False\n",
            "141 conv4_block6_add - False\n",
            "142 conv4_block6_out - False\n",
            "143 conv5_block1_1_conv - True\n",
            "144 conv5_block1_1_bn - True\n",
            "145 conv5_block1_1_relu - True\n",
            "146 conv5_block1_2_conv - True\n",
            "147 conv5_block1_2_bn - True\n",
            "148 conv5_block1_2_relu - True\n",
            "149 conv5_block1_0_conv - True\n",
            "150 conv5_block1_3_conv - True\n",
            "151 conv5_block1_0_bn - True\n",
            "152 conv5_block1_3_bn - True\n",
            "153 conv5_block1_add - True\n",
            "154 conv5_block1_out - True\n",
            "155 conv5_block2_1_conv - True\n",
            "156 conv5_block2_1_bn - True\n",
            "157 conv5_block2_1_relu - True\n",
            "158 conv5_block2_2_conv - True\n",
            "159 conv5_block2_2_bn - True\n",
            "160 conv5_block2_2_relu - True\n",
            "161 conv5_block2_3_conv - True\n",
            "162 conv5_block2_3_bn - True\n",
            "163 conv5_block2_add - True\n",
            "164 conv5_block2_out - True\n",
            "165 conv5_block3_1_conv - True\n",
            "166 conv5_block3_1_bn - True\n",
            "167 conv5_block3_1_relu - True\n",
            "168 conv5_block3_2_conv - True\n",
            "169 conv5_block3_2_bn - True\n",
            "170 conv5_block3_2_relu - True\n",
            "171 conv5_block3_3_conv - True\n",
            "172 conv5_block3_3_bn - True\n",
            "173 conv5_block3_add - True\n",
            "174 conv5_block3_out - True\n",
            "175 avg_pool - False\n"
          ]
        }
      ]
    },
    {
      "cell_type": "markdown",
      "source": [
        "After that, we create new model to connect it later with pre-trained model. Since we excluded the top layers, we need to make the new layers to fit the classification task on this data. In this case, we only have 4 classes, so make a dense layer that can output 4 classes only using softmax activation function."
      ],
      "metadata": {
        "id": "FVXinqy9UV7T"
      }
    },
    {
      "cell_type": "code",
      "source": [
        "model = Sequential()\n",
        "model.add(res_model)\n",
        "model.add(layers.Flatten())\n",
        "model.add(layers.BatchNormalization())\n",
        "model.add(layers.Dense(N_CLASSES, activation='softmax'))"
      ],
      "metadata": {
        "execution": {
          "iopub.status.busy": "2022-06-26T12:03:01.671038Z",
          "iopub.status.idle": "2022-06-26T12:03:01.672309Z",
          "shell.execute_reply.started": "2022-06-26T12:03:01.672036Z",
          "shell.execute_reply": "2022-06-26T12:03:01.672064Z"
        },
        "trusted": true,
        "id": "18_EYvCEUV7T"
      },
      "execution_count": null,
      "outputs": []
    },
    {
      "cell_type": "markdown",
      "source": [
        "Compile the model then the model is ready to train"
      ],
      "metadata": {
        "id": "tA_yBqZNUV7T"
      }
    },
    {
      "cell_type": "code",
      "source": [
        "model.compile(optimizer='adam', loss = 'categorical_crossentropy', metrics = ['acc'])"
      ],
      "metadata": {
        "execution": {
          "iopub.status.busy": "2022-06-26T12:03:01.673597Z",
          "iopub.status.idle": "2022-06-26T12:03:01.674378Z",
          "shell.execute_reply.started": "2022-06-26T12:03:01.674086Z",
          "shell.execute_reply": "2022-06-26T12:03:01.674115Z"
        },
        "trusted": true,
        "id": "Asiy20yUUV7T"
      },
      "execution_count": null,
      "outputs": []
    },
    {
      "cell_type": "code",
      "source": [
        "model.summary()"
      ],
      "metadata": {
        "execution": {
          "iopub.status.busy": "2022-06-26T12:03:01.675878Z",
          "iopub.status.idle": "2022-06-26T12:03:01.676981Z",
          "shell.execute_reply.started": "2022-06-26T12:03:01.676527Z",
          "shell.execute_reply": "2022-06-26T12:03:01.676559Z"
        },
        "trusted": true,
        "id": "ne14-PUaUV7U",
        "colab": {
          "base_uri": "https://localhost:8080/"
        },
        "outputId": "9d4a4913-ae7f-407b-ca96-4c775eae149a"
      },
      "execution_count": null,
      "outputs": [
        {
          "output_type": "stream",
          "name": "stdout",
          "text": [
            "Model: \"sequential\"\n",
            "_________________________________________________________________\n",
            " Layer (type)                Output Shape              Param #   \n",
            "=================================================================\n",
            " resnet50 (Functional)       (None, 2048)              23587712  \n",
            "                                                                 \n",
            " flatten (Flatten)           (None, 2048)              0         \n",
            "                                                                 \n",
            " batch_normalization (BatchN  (None, 2048)             8192      \n",
            " ormalization)                                                   \n",
            "                                                                 \n",
            " dense (Dense)               (None, 3)                 6147      \n",
            "                                                                 \n",
            "=================================================================\n",
            "Total params: 23,602,051\n",
            "Trainable params: 14,986,243\n",
            "Non-trainable params: 8,615,808\n",
            "_________________________________________________________________\n"
          ]
        }
      ]
    },
    {
      "cell_type": "markdown",
      "source": [
        "We set some callbacks method for evaluation purpose"
      ],
      "metadata": {
        "id": "IkKYsMsjUV7U"
      }
    },
    {
      "cell_type": "code",
      "source": [
        "# checkpoint = ModelCheckpoint(filepath='/content/drive/MyDrive/Dataset02',\n",
        "#                              monitor='val_loss',\n",
        "#                             mode='auto',\n",
        "#                             save_best_only=True)\n",
        "# early_stopping = EarlyStopping(verbose=1, patience=3)"
      ],
      "metadata": {
        "execution": {
          "iopub.status.busy": "2022-06-26T12:03:01.679216Z",
          "iopub.status.idle": "2022-06-26T12:03:01.680414Z",
          "shell.execute_reply.started": "2022-06-26T12:03:01.679969Z",
          "shell.execute_reply": "2022-06-26T12:03:01.680000Z"
        },
        "trusted": true,
        "id": "BQ7L9zf4UV7U"
      },
      "execution_count": null,
      "outputs": []
    },
    {
      "cell_type": "code",
      "source": [
        "history = model.fit(train_generator,\n",
        "                    steps_per_epoch = 100,\n",
        "                    validation_data = test_generator,\n",
        "                    validation_steps = 50,\n",
        "                    epochs = 1,\n",
        "                    verbose = 1)"
      ],
      "metadata": {
        "execution": {
          "iopub.status.busy": "2022-06-26T12:03:01.682062Z",
          "iopub.status.idle": "2022-06-26T12:03:01.682973Z",
          "shell.execute_reply.started": "2022-06-26T12:03:01.682683Z",
          "shell.execute_reply": "2022-06-26T12:03:01.682711Z"
        },
        "trusted": true,
        "colab": {
          "base_uri": "https://localhost:8080/"
        },
        "id": "BMYdu9lAUV7U",
        "outputId": "99388410-86fa-4150-f14c-944f43a09881"
      },
      "execution_count": null,
      "outputs": [
        {
          "output_type": "stream",
          "name": "stdout",
          "text": [
            " 79/100 [======================>.......] - ETA: 1:26 - loss: 0.8114 - acc: 0.7878"
          ]
        },
        {
          "output_type": "stream",
          "name": "stderr",
          "text": [
            "WARNING:tensorflow:Your input ran out of data; interrupting training. Make sure that your dataset or generator can generate at least `steps_per_epoch * epochs` batches (in this case, 100 batches). You may need to use the repeat() function when building your dataset.\n"
          ]
        },
        {
          "output_type": "stream",
          "name": "stdout",
          "text": [
            "\b\b\b\b\b\b\b\b\b\b\b\b\b\b\b\b\b\b\b\b\b\b\b\b\b\b\b\b\b\b\b\b\b\b\b\b\b\b\b\b\b\b\b\b\b\b\b\b\b\b\b\b\b\b\b\b\b\b\b\b\b\b\b\b\b\b\b\b\b\b\b\b\b\b\b\b\b\b\b\b\b\r100/100 [==============================] - 346s 3s/step - loss: 0.8114 - acc: 0.7878\n"
          ]
        }
      ]
    },
    {
      "cell_type": "markdown",
      "source": [
        "Now we plot the line graph to see how the model performs on this data"
      ],
      "metadata": {
        "id": "iOqTyzzxUV7U"
      }
    },
    {
      "cell_type": "code",
      "source": [
        "%matplotlib inline\n",
        "import matplotlib.pyplot as plt\n",
        "\n",
        "acc = history.history['acc']\n",
        "val_acc = history.history['val_acc']\n",
        "loss = history.history['loss']\n",
        "val_loss = history.history['val_loss']\n",
        "\n",
        "epochs = range(len(acc))\n",
        "\n",
        "plt.plot(epochs, acc, 'r', label='Training accuracy')\n",
        "plt.plot(epochs, val_acc, 'b', label='Validation accuracy')\n",
        "plt.title('Training and validation accuracy')\n",
        "plt.legend(loc=0)\n",
        "plt.figure()\n",
        "\n",
        "plt.show()"
      ],
      "metadata": {
        "execution": {
          "iopub.status.busy": "2022-06-26T12:03:01.684517Z",
          "iopub.status.idle": "2022-06-26T12:03:01.685350Z",
          "shell.execute_reply.started": "2022-06-26T12:03:01.685076Z",
          "shell.execute_reply": "2022-06-26T12:03:01.685105Z"
        },
        "trusted": true,
        "colab": {
          "base_uri": "https://localhost:8080/",
          "height": 235
        },
        "id": "UEDsPzKlUV7U",
        "outputId": "a73acaa1-b013-4f8c-f937-0a9699c4c505"
      },
      "execution_count": null,
      "outputs": [
        {
          "output_type": "error",
          "ename": "KeyError",
          "evalue": "ignored",
          "traceback": [
            "\u001b[0;31m---------------------------------------------------------------------------\u001b[0m",
            "\u001b[0;31mKeyError\u001b[0m                                  Traceback (most recent call last)",
            "\u001b[0;32m<ipython-input-26-cb5a5fabcfbf>\u001b[0m in \u001b[0;36m<module>\u001b[0;34m()\u001b[0m\n\u001b[1;32m      3\u001b[0m \u001b[0;34m\u001b[0m\u001b[0m\n\u001b[1;32m      4\u001b[0m \u001b[0macc\u001b[0m \u001b[0;34m=\u001b[0m \u001b[0mhistory\u001b[0m\u001b[0;34m.\u001b[0m\u001b[0mhistory\u001b[0m\u001b[0;34m[\u001b[0m\u001b[0;34m'acc'\u001b[0m\u001b[0;34m]\u001b[0m\u001b[0;34m\u001b[0m\u001b[0;34m\u001b[0m\u001b[0m\n\u001b[0;32m----> 5\u001b[0;31m \u001b[0mval_acc\u001b[0m \u001b[0;34m=\u001b[0m \u001b[0mhistory\u001b[0m\u001b[0;34m.\u001b[0m\u001b[0mhistory\u001b[0m\u001b[0;34m[\u001b[0m\u001b[0;34m'val_acc'\u001b[0m\u001b[0;34m]\u001b[0m\u001b[0;34m\u001b[0m\u001b[0;34m\u001b[0m\u001b[0m\n\u001b[0m\u001b[1;32m      6\u001b[0m \u001b[0mloss\u001b[0m \u001b[0;34m=\u001b[0m \u001b[0mhistory\u001b[0m\u001b[0;34m.\u001b[0m\u001b[0mhistory\u001b[0m\u001b[0;34m[\u001b[0m\u001b[0;34m'loss'\u001b[0m\u001b[0;34m]\u001b[0m\u001b[0;34m\u001b[0m\u001b[0;34m\u001b[0m\u001b[0m\n\u001b[1;32m      7\u001b[0m \u001b[0mval_loss\u001b[0m \u001b[0;34m=\u001b[0m \u001b[0mhistory\u001b[0m\u001b[0;34m.\u001b[0m\u001b[0mhistory\u001b[0m\u001b[0;34m[\u001b[0m\u001b[0;34m'val_loss'\u001b[0m\u001b[0;34m]\u001b[0m\u001b[0;34m\u001b[0m\u001b[0;34m\u001b[0m\u001b[0m\n",
            "\u001b[0;31mKeyError\u001b[0m: 'val_acc'"
          ]
        }
      ]
    },
    {
      "cell_type": "code",
      "source": [
        "result = model.evaluate(test_generator, steps=STEPS_TEST)"
      ],
      "metadata": {
        "execution": {
          "iopub.status.busy": "2022-06-26T12:03:01.686448Z",
          "iopub.status.idle": "2022-06-26T12:03:01.688136Z",
          "shell.execute_reply.started": "2022-06-26T12:03:01.687850Z",
          "shell.execute_reply": "2022-06-26T12:03:01.687882Z"
        },
        "trusted": true,
        "id": "0x7mhnA6UV7V"
      },
      "execution_count": null,
      "outputs": []
    },
    {
      "cell_type": "markdown",
      "source": [
        "The model seems pretty good for now because it can reach 70% accuracy. Still, the model can be improved in other way. Last step, let's see what are the examples that can make the model fail to predict the images."
      ],
      "metadata": {
        "id": "C-u9YVz4UV7V"
      }
    },
    {
      "cell_type": "code",
      "source": [
        "example_errors()"
      ],
      "metadata": {
        "execution": {
          "iopub.status.busy": "2022-06-26T12:03:01.689712Z",
          "iopub.status.idle": "2022-06-26T12:03:01.690185Z",
          "shell.execute_reply.started": "2022-06-26T12:03:01.689940Z",
          "shell.execute_reply": "2022-06-26T12:03:01.689966Z"
        },
        "trusted": true,
        "id": "dBjxrdolUV7V"
      },
      "execution_count": null,
      "outputs": []
    },
    {
      "cell_type": "markdown",
      "source": [
        "We can see from the confusion matrix that our model are often predicts an image wrong but can still achieve the accuracy about 70%. Perhaps we need to do another approach to fine-tune the model so it can perform better."
      ],
      "metadata": {
        "id": "nAE_WSbwUV7V"
      }
    },
    {
      "cell_type": "markdown",
      "source": [
        "---"
      ],
      "metadata": {
        "id": "ONJ5zvUlUV7V"
      }
    }
  ]
}